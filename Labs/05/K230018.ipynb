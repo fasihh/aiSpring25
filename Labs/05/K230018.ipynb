{
 "cells": [
  {
   "cell_type": "markdown",
   "metadata": {},
   "source": [
    "### Task 2"
   ]
  },
  {
   "cell_type": "code",
   "execution_count": 106,
   "metadata": {},
   "outputs": [
    {
     "data": {
      "text/plain": [
       "(26.88780875839155,\n",
       " [(8, 2), (8, 1), (8, 0), (1, 1), (2, 3), (4, 5), (2, 9), (3, 9), (10, 7)])"
      ]
     },
     "execution_count": 106,
     "metadata": {},
     "output_type": "execute_result"
    }
   ],
   "source": [
    "from typing import *\n",
    "import random\n",
    "\n",
    "random.seed(727)\n",
    "type Point = Tuple[int | float, int | float]\n",
    "\n",
    "N = 10\n",
    "l, r = 0, 10\n",
    "points: List[Point] = list({\n",
    "    (random.randint(l, r), random.randint(l, r))\\\n",
    "    for _ in range(N)\n",
    "})\n",
    "\n",
    "def distance(a: Point, b: Point) -> float:\n",
    "    (x1, y1), (x2, y2) = a, b\n",
    "    return ((x1 - x2)**2 + (y1 - y2)**2)**0.5\n",
    "\n",
    "def route_distance(route: List[Point]):\n",
    "    total = 0\n",
    "    for i in range(len(route) - 1):\n",
    "        total += distance(route[i], route[i + 1])\n",
    "    return total\n",
    "\n",
    "def hill_climb(points: List[Point]) -> Tuple[float, List[Point]]:\n",
    "    n = len(points)\n",
    "    current_route = points[:]\n",
    "    random.shuffle(current_route)\n",
    "    current_distance = route_distance(current_route)\n",
    "\n",
    "    while True:\n",
    "        flag = False\n",
    "        for i in range(n):\n",
    "            for j in range(i + 1, n):\n",
    "                new_route = current_route[:]\n",
    "                new_route[i], new_route[j] = new_route[j], new_route[i]\n",
    "                new_distance = route_distance(new_route)\n",
    "\n",
    "                if new_distance < current_distance:\n",
    "                    current_distance = new_distance\n",
    "                    current_route = new_route\n",
    "                    flag = True\n",
    "                    break\n",
    "            if flag:\n",
    "                break\n",
    "        if not flag:\n",
    "            break\n",
    "    return current_distance, current_route\n",
    "\n",
    "hill_climb(points)"
   ]
  }
 ],
 "metadata": {
  "kernelspec": {
   "display_name": "venv",
   "language": "python",
   "name": "python3"
  },
  "language_info": {
   "codemirror_mode": {
    "name": "ipython",
    "version": 3
   },
   "file_extension": ".py",
   "mimetype": "text/x-python",
   "name": "python",
   "nbconvert_exporter": "python",
   "pygments_lexer": "ipython3",
   "version": "3.12.3"
  }
 },
 "nbformat": 4,
 "nbformat_minor": 2
}
