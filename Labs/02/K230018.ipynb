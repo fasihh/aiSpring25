{
 "cells": [
  {
   "cell_type": "code",
   "execution_count": 6,
   "metadata": {},
   "outputs": [],
   "source": [
    "from typing import Dict, List, Callable\n",
    "import numpy as np"
   ]
  },
  {
   "cell_type": "code",
   "execution_count": 7,
   "metadata": {},
   "outputs": [
    {
     "name": "stdout",
     "output_type": "stream",
     "text": [
      "{'A': 1, 'B': 1, 'C': 0, 'D': 0, 'E': 0, 'F': 1, 'G': 1, 'H': 0, 'I': 1}\n",
      "<warning>: A is not secure!\n",
      "<warning>: B is not secure!\n",
      "<success>: C is secure.\n",
      "<success>: D is secure.\n",
      "<success>: E is secure.\n",
      "<warning>: F is not secure!\n",
      "<warning>: G is not secure!\n",
      "<success>: H is secure.\n",
      "<warning>: I is not secure!\n",
      "{'A': 0, 'B': 0, 'C': 0, 'D': 0, 'E': 0, 'F': 0, 'G': 0, 'H': 0, 'I': 0}\n"
     ]
    }
   ],
   "source": [
    "type Components = Dict[str, int]\n",
    "\n",
    "class Environment:\n",
    "    def __init__(self):\n",
    "        self.__components: Components = \\\n",
    "            dict([(chr(ord('A') + i), np.random.randint(0, 2)) for i in range(9)])\n",
    "        \n",
    "    def display_state(self):\n",
    "        print(self.__components)\n",
    "    \n",
    "    def get_percept(self) -> Components:\n",
    "        return self.__components\n",
    "    \n",
    "    def patch(self, component: str):\n",
    "        self.__components.update({component: 0})\n",
    "\n",
    "# reflexive approach\n",
    "class Agent:\n",
    "    def __init__(self):\n",
    "        self.__patches: List[str] = []\n",
    "    \n",
    "    def scan(self, components: Components):\n",
    "        for component in components:\n",
    "            if components[component] == 0:\n",
    "                print(f'<success>: {component} is secure.')\n",
    "                continue\n",
    "            print(f'<warning>: {component} is not secure!')\n",
    "            self.__patches.append(component)\n",
    "\n",
    "    def act(self, patch: Callable[[str], None]):\n",
    "        for component in self.__patches:\n",
    "            patch(component)\n",
    "        self.__patches.clear()\n",
    "\n",
    "def run_agent():\n",
    "    env = Environment()\n",
    "    agent = Agent()\n",
    "\n",
    "    env.display_state()\n",
    "    agent.scan(env.get_percept())\n",
    "    agent.act(env.patch)\n",
    "    env.display_state()\n",
    "\n",
    "run_agent()"
   ]
  },
  {
   "cell_type": "code",
   "execution_count": 15,
   "metadata": {},
   "outputs": [
    {
     "name": "stdout",
     "output_type": "stream",
     "text": [
      "0: status: Underloaded  | tasks: \n",
      "1: status: Overloaded   | tasks: \n",
      "2: status: Balanced     | tasks: \n",
      "3: status: Underloaded  | tasks: \n",
      "4: status: Underloaded  | tasks: \n"
     ]
    }
   ],
   "source": [
    "states: List[str] = ['Underloaded', 'Balanced', 'Overloaded']\n",
    "\n",
    "class Task:\n",
    "    def __init__(self, task: str):\n",
    "        self.__task = task\n",
    "\n",
    "    def __str__(self):\n",
    "        return self.__task\n",
    "    \n",
    "class Server:\n",
    "    def __init__(self, initial_state: str):\n",
    "        self.__tasks: List[Task] = []\n",
    "        self.__state: str = initial_state\n",
    "    \n",
    "    def add(self, task: Task):\n",
    "        self.__task.append(task)\n",
    "\n",
    "    def __str__(self):\n",
    "        return f'status: {self.__state:<12} | tasks: {', '.join(map(str, self.__tasks))}'\n",
    "\n",
    "class Environment:\n",
    "    def __init__(self):\n",
    "        self.__servers: List[Server] = [Server(np.random.choice(states)) for _ in range(5)]\n",
    "\n",
    "    def display_state(self):\n",
    "        for i, server in enumerate(self.__servers):\n",
    "            print(f'{i}:', server)\n",
    "\n",
    "def run_agent():\n",
    "    env = Environment()\n",
    "    \n",
    "    env.display_state()\n",
    "\n",
    "run_agent()"
   ]
  }
 ],
 "metadata": {
  "kernelspec": {
   "display_name": "venv",
   "language": "python",
   "name": "python3"
  },
  "language_info": {
   "codemirror_mode": {
    "name": "ipython",
    "version": 3
   },
   "file_extension": ".py",
   "mimetype": "text/x-python",
   "name": "python",
   "nbconvert_exporter": "python",
   "pygments_lexer": "ipython3",
   "version": "3.13.1"
  }
 },
 "nbformat": 4,
 "nbformat_minor": 2
}
