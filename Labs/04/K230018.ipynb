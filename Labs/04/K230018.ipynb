{
 "cells": [
  {
   "cell_type": "code",
   "execution_count": 7,
   "metadata": {},
   "outputs": [],
   "source": [
    "from typing import Tuple, List, Dict, Optional, Set\n",
    "import heapq\n",
    "import numpy as np"
   ]
  },
  {
   "cell_type": "markdown",
   "metadata": {},
   "source": [
    "### Task 1"
   ]
  },
  {
   "cell_type": "code",
   "execution_count": null,
   "metadata": {},
   "outputs": [
    {
     "name": "stdout",
     "output_type": "stream",
     "text": [
      "2 2 1 0 0\n",
      "0 2 2 2 0\n",
      "0 0 1 2 1\n",
      "0 0 1 2 2\n",
      "0 0 0 1 2\n",
      "\n",
      "2 2 1 0 0\n",
      "0 2 2 2 0\n",
      "0 0 1 2 1\n",
      "0 0 1 0 0\n",
      "0 0 0 1 0\n",
      "\n",
      "2 2 1 2 2\n",
      "0 2 2 2 0\n",
      "0 0 1 0 1\n",
      "0 0 1 0 0\n",
      "0 0 0 1 0\n",
      "\n"
     ]
    }
   ],
   "source": [
    "\n",
    "maze: List[List[int]] = [\n",
    "  [0, 0, 1, 0, 0],\n",
    "  [0, 0, 0, 0, 0],\n",
    "  [0, 0, 1, 0, 1],\n",
    "  [0, 0, 1, 0, 0],\n",
    "  [0, 0, 0, 1, 0]\n",
    "]\n",
    "\n",
    "def heuristic(source: Tuple[int, int], goal: Tuple[int, int]) -> int:\n",
    "  return abs(source[0] - goal[0]) + abs(source[1] - goal[1])\n",
    "\n",
    "goals: Set[Tuple[int, int]] = set([(4, 4), (2, 3), (0, 4)])\n",
    "\n",
    "type DistanceDict = Dict[Tuple[int, int], Tuple[int, Optional[Tuple[int, int]]]]\n",
    "def best_first_search(maze: List[List[int]], source: Tuple[int, int], goal: Tuple[int, int]) -> List[Tuple[int, int]]:\n",
    "  dists: DistanceDict = {source: (0, None)}\n",
    "  pq = [source]\n",
    "  n, m = len(maze), len(maze[-1])\n",
    "\n",
    "  def construct_path() -> List[Tuple[int, int]]:\n",
    "    path = [goal]\n",
    "    curr: Optional[Tuple[int, int]] = goal\n",
    "    while curr:\n",
    "      parent = dists[curr][1]\n",
    "      path.append(parent)\n",
    "      curr = parent\n",
    "    return path[::-1][1:]\n",
    "\n",
    "  while pq:\n",
    "    r, c = heapq.heappop(pq)\n",
    "\n",
    "    for dr, dc in [(0,1), (1,0), (0,-1), (-1,0)]:\n",
    "      nr, nc = r + dr, c + dc\n",
    "      if not (0 <= nr < n and 0 <= nc < m) or maze[nr][nc] == 1:\n",
    "        continue\n",
    "\n",
    "      f = heuristic((nr, nc), goal)\n",
    "      if f < dists.get((nr, nc), (float('inf'), None))[0]:\n",
    "        dists[(nr, nc)] = (f, (r, c))\n",
    "        heapq.heappush(pq, (nr, nc))\n",
    "\n",
    "  return construct_path()\n",
    "\n",
    "def display_path(maze: List[List[int]], path: List[Tuple[int, int]]):\n",
    "  for r, c in path:\n",
    "    maze[r][c] = 2\n",
    "  print(*map(lambda row: ' '.join(map(str, row)), maze), sep=\"\\n\", end=\"\\n\\n\")\n",
    "\n",
    "for goal in goals:\n",
    "  path = best_first_search(maze, (0, 0), goal)\n",
    "  display_path([row[:] for row in maze], path)"
   ]
  },
  {
   "cell_type": "markdown",
   "metadata": {},
   "source": [
    "### Task 2"
   ]
  },
  {
   "cell_type": "code",
   "execution_count": null,
   "metadata": {},
   "outputs": [
    {
     "name": "stdout",
     "output_type": "stream",
     "text": [
      "[Node(pos=(6, 6), f=0, h=0, g=0, parent=None), Node(pos=(0, 6), f=0, h=0, g=0, parent=None), Node(pos=(6, 0), f=0, h=0, g=0, parent=None)]\n",
      "{Node(pos=(6, 6), f=0, h=0, g=0, parent=None): 0}\n"
     ]
    }
   ],
   "source": [
    "class Node:\n",
    "  def __init__(self, pos: Tuple[int, int], h_cost: int, g_cost: int):\n",
    "    self.pos = pos\n",
    "    self.h = h_cost\n",
    "    self.g = g_cost\n",
    "    self.f = h_cost + g_cost\n",
    "    self.parent: Optional['Node'] = None\n",
    "  \n",
    "  def __lt__(self, obj: 'Node'):\n",
    "    return self.f < obj.f\n",
    "  \n",
    "  def __str__(self):\n",
    "    parent_str = self.parent.pos if self.parent else \"None\"\n",
    "    return f\"Node(pos={self.pos}, f={self.f}, h={self.h}, g={self.g}, parent={parent_str})\"\n",
    "  \n",
    "  def __repr__(self):\n",
    "    return self.__str__()\n",
    "\n",
    "  def __hash__(self):\n",
    "    return self.pos.__hash__()\n",
    "  \n",
    "N, M = 7, 7\n",
    "\n",
    "def randomize_costs(maze: List[List[int]], k: int = 4, max_cost: int = 5):\n",
    "  positions = list(zip(np.random.randint(0, N, k), np.random.randint(0, M, k)))\n",
    "  for r, c in positions:\n",
    "    cost = np.random.randint(1, max_cost+1)\n",
    "    for dr, dc in [(0,0), (0,1), (1,0), (-1,0), (0,-1)]:\n",
    "      nr, nc = r + dr, c + dc\n",
    "      if 0 <= nr < N and 0 <= nc < M:\n",
    "        maze[nr][nc] = cost\n",
    "  return maze\n",
    "\n",
    "def heuristic(source: Tuple[int, int], target: Tuple[int, int]):\n",
    "  return abs(source[0] - target[0]) + abs(source[1] - target[1])\n",
    "\n",
    "def dynamic_A_star(maze: List[List[int]], source: Tuple[int ,int], goals: Set[Tuple[int, int]]):\n",
    "  pq: List[Node] = [Node(goal, 0, 0) for goal in goals]\n",
    "  dists: Dict[Node, int] = {pq[0]: 0}\n",
    "  print(pq)\n",
    "\n",
    "  while pq:\n",
    "    u = heapq.heappop(pq)\n",
    "    r, c = u.pos\n",
    "\n",
    "    for dr, dc in [(0,0), (0,1), (1,0), (-1,0), (0,-1)]:\n",
    "      nr, nc = r + dr, c + dc\n",
    "      if not (0 <= nr < N and 0 <= nc < M):\n",
    "        continue\n",
    "      h_cost = heuristic((nr, nc), source)\n",
    "      g_cost = maze[nr][nc]\n",
    "      if h_cost + g_cost < dists.get(u, float('inf')):\n",
    "        dists[u] = int(h_cost + g_cost)\n",
    "        v = Node((nr, nc), h_cost, g_cost)\n",
    "        v.parent = u\n",
    "        heapq.heappush(pq, v)\n",
    "  print(dists)\n",
    "\n",
    "np.random.seed(42)\n",
    "maze = np.zeros((N, M), dtype=np.int32)\n",
    "dynamic_A_star(randomize_costs(maze, 10), (0, 0), {(N-1, M-1), (N-1, 0), (0, M-1)})"
   ]
  }
 ],
 "metadata": {
  "kernelspec": {
   "display_name": "venv",
   "language": "python",
   "name": "python3"
  },
  "language_info": {
   "codemirror_mode": {
    "name": "ipython",
    "version": 3
   },
   "file_extension": ".py",
   "mimetype": "text/x-python",
   "name": "python",
   "nbconvert_exporter": "python",
   "pygments_lexer": "ipython3",
   "version": "3.12.3"
  }
 },
 "nbformat": 4,
 "nbformat_minor": 2
}
