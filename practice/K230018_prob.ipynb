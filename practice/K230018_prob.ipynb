{
 "cells": [
  {
   "cell_type": "code",
   "execution_count": 148,
   "metadata": {},
   "outputs": [],
   "source": [
    "import pandas as pd\n",
    "import seaborn as sns\n",
    "import matplotlib.pyplot as plt\n",
    "import numpy as np"
   ]
  },
  {
   "cell_type": "markdown",
   "metadata": {},
   "source": [
    "## Question 2"
   ]
  },
  {
   "cell_type": "code",
   "execution_count": 149,
   "metadata": {},
   "outputs": [
    {
     "data": {
      "text/html": [
       "<div>\n",
       "<style scoped>\n",
       "    .dataframe tbody tr th:only-of-type {\n",
       "        vertical-align: middle;\n",
       "    }\n",
       "\n",
       "    .dataframe tbody tr th {\n",
       "        vertical-align: top;\n",
       "    }\n",
       "\n",
       "    .dataframe thead th {\n",
       "        text-align: right;\n",
       "    }\n",
       "</style>\n",
       "<table border=\"1\" class=\"dataframe\">\n",
       "  <thead>\n",
       "    <tr style=\"text-align: right;\">\n",
       "      <th></th>\n",
       "      <th>Age</th>\n",
       "      <th>Gender</th>\n",
       "      <th>Blood Pressure</th>\n",
       "      <th>Cholesterol Level</th>\n",
       "      <th>Exercise Habits</th>\n",
       "      <th>Smoking</th>\n",
       "      <th>Family Heart Disease</th>\n",
       "      <th>Diabetes</th>\n",
       "      <th>BMI</th>\n",
       "      <th>High Blood Pressure</th>\n",
       "      <th>...</th>\n",
       "      <th>High LDL Cholesterol</th>\n",
       "      <th>Alcohol Consumption</th>\n",
       "      <th>Stress Level</th>\n",
       "      <th>Sleep Hours</th>\n",
       "      <th>Sugar Consumption</th>\n",
       "      <th>Triglyceride Level</th>\n",
       "      <th>Fasting Blood Sugar</th>\n",
       "      <th>CRP Level</th>\n",
       "      <th>Homocysteine Level</th>\n",
       "      <th>Heart Disease Status</th>\n",
       "    </tr>\n",
       "  </thead>\n",
       "  <tbody>\n",
       "    <tr>\n",
       "      <th>0</th>\n",
       "      <td>56.0</td>\n",
       "      <td>Male</td>\n",
       "      <td>153.0</td>\n",
       "      <td>155.0</td>\n",
       "      <td>High</td>\n",
       "      <td>Yes</td>\n",
       "      <td>Yes</td>\n",
       "      <td>No</td>\n",
       "      <td>24.991591</td>\n",
       "      <td>Yes</td>\n",
       "      <td>...</td>\n",
       "      <td>No</td>\n",
       "      <td>High</td>\n",
       "      <td>Medium</td>\n",
       "      <td>7.633228</td>\n",
       "      <td>Medium</td>\n",
       "      <td>342.0</td>\n",
       "      <td>NaN</td>\n",
       "      <td>12.969246</td>\n",
       "      <td>12.387250</td>\n",
       "      <td>No</td>\n",
       "    </tr>\n",
       "    <tr>\n",
       "      <th>1</th>\n",
       "      <td>69.0</td>\n",
       "      <td>Female</td>\n",
       "      <td>146.0</td>\n",
       "      <td>286.0</td>\n",
       "      <td>High</td>\n",
       "      <td>No</td>\n",
       "      <td>Yes</td>\n",
       "      <td>Yes</td>\n",
       "      <td>25.221799</td>\n",
       "      <td>No</td>\n",
       "      <td>...</td>\n",
       "      <td>No</td>\n",
       "      <td>Medium</td>\n",
       "      <td>High</td>\n",
       "      <td>8.744034</td>\n",
       "      <td>Medium</td>\n",
       "      <td>133.0</td>\n",
       "      <td>157.0</td>\n",
       "      <td>9.355389</td>\n",
       "      <td>19.298875</td>\n",
       "      <td>No</td>\n",
       "    </tr>\n",
       "    <tr>\n",
       "      <th>2</th>\n",
       "      <td>46.0</td>\n",
       "      <td>Male</td>\n",
       "      <td>126.0</td>\n",
       "      <td>216.0</td>\n",
       "      <td>Low</td>\n",
       "      <td>No</td>\n",
       "      <td>No</td>\n",
       "      <td>No</td>\n",
       "      <td>29.855447</td>\n",
       "      <td>No</td>\n",
       "      <td>...</td>\n",
       "      <td>Yes</td>\n",
       "      <td>Low</td>\n",
       "      <td>Low</td>\n",
       "      <td>4.440440</td>\n",
       "      <td>Low</td>\n",
       "      <td>393.0</td>\n",
       "      <td>92.0</td>\n",
       "      <td>12.709873</td>\n",
       "      <td>11.230926</td>\n",
       "      <td>No</td>\n",
       "    </tr>\n",
       "    <tr>\n",
       "      <th>3</th>\n",
       "      <td>32.0</td>\n",
       "      <td>Female</td>\n",
       "      <td>122.0</td>\n",
       "      <td>293.0</td>\n",
       "      <td>High</td>\n",
       "      <td>Yes</td>\n",
       "      <td>Yes</td>\n",
       "      <td>No</td>\n",
       "      <td>24.130477</td>\n",
       "      <td>Yes</td>\n",
       "      <td>...</td>\n",
       "      <td>Yes</td>\n",
       "      <td>Low</td>\n",
       "      <td>High</td>\n",
       "      <td>5.249405</td>\n",
       "      <td>High</td>\n",
       "      <td>293.0</td>\n",
       "      <td>94.0</td>\n",
       "      <td>12.509046</td>\n",
       "      <td>5.961958</td>\n",
       "      <td>No</td>\n",
       "    </tr>\n",
       "    <tr>\n",
       "      <th>4</th>\n",
       "      <td>60.0</td>\n",
       "      <td>Male</td>\n",
       "      <td>166.0</td>\n",
       "      <td>242.0</td>\n",
       "      <td>Low</td>\n",
       "      <td>Yes</td>\n",
       "      <td>Yes</td>\n",
       "      <td>Yes</td>\n",
       "      <td>20.486289</td>\n",
       "      <td>Yes</td>\n",
       "      <td>...</td>\n",
       "      <td>No</td>\n",
       "      <td>Low</td>\n",
       "      <td>High</td>\n",
       "      <td>7.030971</td>\n",
       "      <td>High</td>\n",
       "      <td>263.0</td>\n",
       "      <td>154.0</td>\n",
       "      <td>10.381259</td>\n",
       "      <td>8.153887</td>\n",
       "      <td>No</td>\n",
       "    </tr>\n",
       "  </tbody>\n",
       "</table>\n",
       "<p>5 rows × 21 columns</p>\n",
       "</div>"
      ],
      "text/plain": [
       "    Age  Gender  Blood Pressure  Cholesterol Level Exercise Habits Smoking  \\\n",
       "0  56.0    Male           153.0              155.0            High     Yes   \n",
       "1  69.0  Female           146.0              286.0            High      No   \n",
       "2  46.0    Male           126.0              216.0             Low      No   \n",
       "3  32.0  Female           122.0              293.0            High     Yes   \n",
       "4  60.0    Male           166.0              242.0             Low     Yes   \n",
       "\n",
       "  Family Heart Disease Diabetes        BMI High Blood Pressure  ...  \\\n",
       "0                  Yes       No  24.991591                 Yes  ...   \n",
       "1                  Yes      Yes  25.221799                  No  ...   \n",
       "2                   No       No  29.855447                  No  ...   \n",
       "3                  Yes       No  24.130477                 Yes  ...   \n",
       "4                  Yes      Yes  20.486289                 Yes  ...   \n",
       "\n",
       "  High LDL Cholesterol Alcohol Consumption Stress Level Sleep Hours  \\\n",
       "0                   No                High       Medium    7.633228   \n",
       "1                   No              Medium         High    8.744034   \n",
       "2                  Yes                 Low          Low    4.440440   \n",
       "3                  Yes                 Low         High    5.249405   \n",
       "4                   No                 Low         High    7.030971   \n",
       "\n",
       "   Sugar Consumption Triglyceride Level  Fasting Blood Sugar  CRP Level  \\\n",
       "0             Medium              342.0                  NaN  12.969246   \n",
       "1             Medium              133.0                157.0   9.355389   \n",
       "2                Low              393.0                 92.0  12.709873   \n",
       "3               High              293.0                 94.0  12.509046   \n",
       "4               High              263.0                154.0  10.381259   \n",
       "\n",
       "   Homocysteine Level  Heart Disease Status  \n",
       "0           12.387250                    No  \n",
       "1           19.298875                    No  \n",
       "2           11.230926                    No  \n",
       "3            5.961958                    No  \n",
       "4            8.153887                    No  \n",
       "\n",
       "[5 rows x 21 columns]"
      ]
     },
     "execution_count": 149,
     "metadata": {},
     "output_type": "execute_result"
    }
   ],
   "source": [
    "df = pd.read_csv('heart_disease.csv')\n",
    "\n",
    "df.head()"
   ]
  },
  {
   "cell_type": "markdown",
   "metadata": {},
   "source": [
    "### Basic Insights"
   ]
  },
  {
   "cell_type": "code",
   "execution_count": 150,
   "metadata": {},
   "outputs": [
    {
     "data": {
      "text/plain": [
       "(10000, 21)"
      ]
     },
     "execution_count": 150,
     "metadata": {},
     "output_type": "execute_result"
    }
   ],
   "source": [
    "# (rows, cols)\n",
    "df.shape"
   ]
  },
  {
   "cell_type": "code",
   "execution_count": 151,
   "metadata": {},
   "outputs": [
    {
     "data": {
      "text/html": [
       "<div>\n",
       "<style scoped>\n",
       "    .dataframe tbody tr th:only-of-type {\n",
       "        vertical-align: middle;\n",
       "    }\n",
       "\n",
       "    .dataframe tbody tr th {\n",
       "        vertical-align: top;\n",
       "    }\n",
       "\n",
       "    .dataframe thead th {\n",
       "        text-align: right;\n",
       "    }\n",
       "</style>\n",
       "<table border=\"1\" class=\"dataframe\">\n",
       "  <thead>\n",
       "    <tr style=\"text-align: right;\">\n",
       "      <th></th>\n",
       "      <th>Age</th>\n",
       "      <th>Blood Pressure</th>\n",
       "      <th>Cholesterol Level</th>\n",
       "      <th>BMI</th>\n",
       "      <th>Sleep Hours</th>\n",
       "      <th>Triglyceride Level</th>\n",
       "      <th>Fasting Blood Sugar</th>\n",
       "      <th>CRP Level</th>\n",
       "      <th>Homocysteine Level</th>\n",
       "    </tr>\n",
       "  </thead>\n",
       "  <tbody>\n",
       "    <tr>\n",
       "      <th>count</th>\n",
       "      <td>9971.000000</td>\n",
       "      <td>9981.000000</td>\n",
       "      <td>9970.000000</td>\n",
       "      <td>9978.000000</td>\n",
       "      <td>9975.000000</td>\n",
       "      <td>9974.000000</td>\n",
       "      <td>9978.000000</td>\n",
       "      <td>9974.000000</td>\n",
       "      <td>9980.000000</td>\n",
       "    </tr>\n",
       "    <tr>\n",
       "      <th>mean</th>\n",
       "      <td>49.296259</td>\n",
       "      <td>149.757740</td>\n",
       "      <td>225.425577</td>\n",
       "      <td>29.077269</td>\n",
       "      <td>6.991329</td>\n",
       "      <td>250.734409</td>\n",
       "      <td>120.142213</td>\n",
       "      <td>7.472201</td>\n",
       "      <td>12.456271</td>\n",
       "    </tr>\n",
       "    <tr>\n",
       "      <th>std</th>\n",
       "      <td>18.193970</td>\n",
       "      <td>17.572969</td>\n",
       "      <td>43.575809</td>\n",
       "      <td>6.307098</td>\n",
       "      <td>1.753195</td>\n",
       "      <td>87.067226</td>\n",
       "      <td>23.584011</td>\n",
       "      <td>4.340248</td>\n",
       "      <td>4.323426</td>\n",
       "    </tr>\n",
       "    <tr>\n",
       "      <th>min</th>\n",
       "      <td>18.000000</td>\n",
       "      <td>120.000000</td>\n",
       "      <td>150.000000</td>\n",
       "      <td>18.002837</td>\n",
       "      <td>4.000605</td>\n",
       "      <td>100.000000</td>\n",
       "      <td>80.000000</td>\n",
       "      <td>0.003647</td>\n",
       "      <td>5.000236</td>\n",
       "    </tr>\n",
       "    <tr>\n",
       "      <th>25%</th>\n",
       "      <td>34.000000</td>\n",
       "      <td>134.000000</td>\n",
       "      <td>187.000000</td>\n",
       "      <td>23.658075</td>\n",
       "      <td>5.449866</td>\n",
       "      <td>176.000000</td>\n",
       "      <td>99.000000</td>\n",
       "      <td>3.674126</td>\n",
       "      <td>8.723334</td>\n",
       "    </tr>\n",
       "    <tr>\n",
       "      <th>50%</th>\n",
       "      <td>49.000000</td>\n",
       "      <td>150.000000</td>\n",
       "      <td>226.000000</td>\n",
       "      <td>29.079492</td>\n",
       "      <td>7.003252</td>\n",
       "      <td>250.000000</td>\n",
       "      <td>120.000000</td>\n",
       "      <td>7.472164</td>\n",
       "      <td>12.409395</td>\n",
       "    </tr>\n",
       "    <tr>\n",
       "      <th>75%</th>\n",
       "      <td>65.000000</td>\n",
       "      <td>165.000000</td>\n",
       "      <td>263.000000</td>\n",
       "      <td>34.520015</td>\n",
       "      <td>8.531577</td>\n",
       "      <td>326.000000</td>\n",
       "      <td>141.000000</td>\n",
       "      <td>11.255592</td>\n",
       "      <td>16.140564</td>\n",
       "    </tr>\n",
       "    <tr>\n",
       "      <th>max</th>\n",
       "      <td>80.000000</td>\n",
       "      <td>180.000000</td>\n",
       "      <td>300.000000</td>\n",
       "      <td>39.996954</td>\n",
       "      <td>9.999952</td>\n",
       "      <td>400.000000</td>\n",
       "      <td>160.000000</td>\n",
       "      <td>14.997087</td>\n",
       "      <td>19.999037</td>\n",
       "    </tr>\n",
       "  </tbody>\n",
       "</table>\n",
       "</div>"
      ],
      "text/plain": [
       "               Age  Blood Pressure  Cholesterol Level          BMI  \\\n",
       "count  9971.000000     9981.000000        9970.000000  9978.000000   \n",
       "mean     49.296259      149.757740         225.425577    29.077269   \n",
       "std      18.193970       17.572969          43.575809     6.307098   \n",
       "min      18.000000      120.000000         150.000000    18.002837   \n",
       "25%      34.000000      134.000000         187.000000    23.658075   \n",
       "50%      49.000000      150.000000         226.000000    29.079492   \n",
       "75%      65.000000      165.000000         263.000000    34.520015   \n",
       "max      80.000000      180.000000         300.000000    39.996954   \n",
       "\n",
       "       Sleep Hours  Triglyceride Level  Fasting Blood Sugar    CRP Level  \\\n",
       "count  9975.000000         9974.000000          9978.000000  9974.000000   \n",
       "mean      6.991329          250.734409           120.142213     7.472201   \n",
       "std       1.753195           87.067226            23.584011     4.340248   \n",
       "min       4.000605          100.000000            80.000000     0.003647   \n",
       "25%       5.449866          176.000000            99.000000     3.674126   \n",
       "50%       7.003252          250.000000           120.000000     7.472164   \n",
       "75%       8.531577          326.000000           141.000000    11.255592   \n",
       "max       9.999952          400.000000           160.000000    14.997087   \n",
       "\n",
       "       Homocysteine Level  \n",
       "count         9980.000000  \n",
       "mean            12.456271  \n",
       "std              4.323426  \n",
       "min              5.000236  \n",
       "25%              8.723334  \n",
       "50%             12.409395  \n",
       "75%             16.140564  \n",
       "max             19.999037  "
      ]
     },
     "execution_count": 151,
     "metadata": {},
     "output_type": "execute_result"
    }
   ],
   "source": [
    "# summary statistics of numerical columns\n",
    "df.describe()"
   ]
  },
  {
   "cell_type": "code",
   "execution_count": 152,
   "metadata": {},
   "outputs": [
    {
     "name": "stdout",
     "output_type": "stream",
     "text": [
      "gender: 3\n",
      "smoking: 3\n"
     ]
    }
   ],
   "source": [
    "# count of unique values in gender and smoking\n",
    "print(f'gender: {len(df['Gender'].unique())}')\n",
    "print(f'smoking: {len(df['Smoking'].unique())}')"
   ]
  },
  {
   "cell_type": "markdown",
   "metadata": {},
   "source": [
    "### Handling missing data"
   ]
  },
  {
   "cell_type": "code",
   "execution_count": 153,
   "metadata": {},
   "outputs": [
    {
     "data": {
      "text/plain": [
       "Age                       29\n",
       "Gender                    19\n",
       "Blood Pressure            19\n",
       "Cholesterol Level         30\n",
       "Exercise Habits           25\n",
       "Smoking                   25\n",
       "Family Heart Disease      21\n",
       "Diabetes                  30\n",
       "BMI                       22\n",
       "High Blood Pressure       26\n",
       "Low HDL Cholesterol       25\n",
       "High LDL Cholesterol      26\n",
       "Alcohol Consumption     2586\n",
       "Stress Level              22\n",
       "Sleep Hours               25\n",
       "Sugar Consumption         30\n",
       "Triglyceride Level        26\n",
       "Fasting Blood Sugar       22\n",
       "CRP Level                 26\n",
       "Homocysteine Level        20\n",
       "Heart Disease Status       0\n",
       "dtype: int64"
      ]
     },
     "execution_count": 153,
     "metadata": {},
     "output_type": "execute_result"
    }
   ],
   "source": [
    "# checking if missing values exist in dataset\n",
    "df.isna().sum()"
   ]
  },
  {
   "cell_type": "code",
   "execution_count": 154,
   "metadata": {},
   "outputs": [
    {
     "data": {
      "text/plain": [
       "Age                     0\n",
       "Gender                  0\n",
       "Blood Pressure          0\n",
       "Cholesterol Level       0\n",
       "Exercise Habits         0\n",
       "Smoking                 0\n",
       "Family Heart Disease    0\n",
       "Diabetes                0\n",
       "BMI                     0\n",
       "High Blood Pressure     0\n",
       "Low HDL Cholesterol     0\n",
       "High LDL Cholesterol    0\n",
       "Alcohol Consumption     0\n",
       "Stress Level            0\n",
       "Sleep Hours             0\n",
       "Sugar Consumption       0\n",
       "Triglyceride Level      0\n",
       "Fasting Blood Sugar     0\n",
       "CRP Level               0\n",
       "Homocysteine Level      0\n",
       "Heart Disease Status    0\n",
       "dtype: int64"
      ]
     },
     "execution_count": 154,
     "metadata": {},
     "output_type": "execute_result"
    }
   ],
   "source": [
    "# for quantitative and continous data, it is best to use mean or median to handle null values\n",
    "# for other types, it is best to use mode\n",
    "\n",
    "# handling null values\n",
    "for column in df.select_dtypes(include='number'):\n",
    "  mean = df[column].mean()\n",
    "  df.loc[df[column].isna(), column] = mean if df[column].std() / mean >= 1 else df[column].median()\n",
    "\n",
    "for column in df.select_dtypes(exclude='number'):\n",
    "  df.loc[df[column].isna(), column] = df[column].mode()[0]\n",
    "\n",
    "# no more null values\n",
    "df.isna().sum()"
   ]
  },
  {
   "cell_type": "markdown",
   "metadata": {},
   "source": [
    "### Data Visualization"
   ]
  },
  {
   "cell_type": "code",
   "execution_count": 175,
   "metadata": {},
   "outputs": [
    {
     "data": {
      "image/png": "[encoded data removed]",
      "text/plain": [
       "<Figure size 640x480 with 1 Axes>"
      ]
     },
     "metadata": {},
     "output_type": "display_data"
    }
   ],
   "source": [
    "sns.histplot(data=df, x='Age', kde=True, alpha=0.4, color='red')\n",
    "plt.show()"
   ]
  },
  {
   "cell_type": "code",
   "execution_count": 171,
   "metadata": {},
   "outputs": [
    {
     "data": {
      "image/png": "[encoded data removed]",
      "text/plain": [
       "<Figure size 640x480 with 1 Axes>"
      ]
     },
     "metadata": {},
     "output_type": "display_data"
    }
   ],
   "source": [
    "sns.countplot(data=df, x='Heart Disease Status', color='coral')\n",
    "plt.show()"
   ]
  },
  {
   "cell_type": "code",
   "execution_count": 179,
   "metadata": {},
   "outputs": [
    {
     "data": {
      "image/png": "[encoded data removed]",
      "text/plain": [
       "<Figure size 640x480 with 1 Axes>"
      ]
     },
     "metadata": {},
     "output_type": "display_data"
    }
   ],
   "source": [
    "sns.boxplot(data=df, x='Cholesterol Level', color='coral')\n",
    "plt.show()"
   ]
  }
 ],
 "metadata": {
  "kernelspec": {
   "display_name": "venv",
   "language": "python",
   "name": "python3"
  },
  "language_info": {
   "codemirror_mode": {
    "name": "ipython",
    "version": 3
   },
   "file_extension": ".py",
   "mimetype": "text/x-python",
   "name": "python",
   "nbconvert_exporter": "python",
   "pygments_lexer": "ipython3",
   "version": "3.12.3"
  }
 },
 "nbformat": 4,
 "nbformat_minor": 2
}
