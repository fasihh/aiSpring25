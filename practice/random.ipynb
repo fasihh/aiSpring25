{
 "cells": [
  {
   "cell_type": "code",
   "execution_count": null,
   "metadata": {},
   "outputs": [],
   "source": [
    "graph = [[1,2,3],[0,2],[0,1,3],[0,2]]\n",
    "\n",
    "def is_bipartite(graph):\n",
    "  pass"
   ]
  },
  {
   "cell_type": "code",
   "execution_count": 2,
   "metadata": {},
   "outputs": [
    {
     "name": "stdout",
     "output_type": "stream",
     "text": [
      ". Q . .\n",
      ". . . Q\n",
      "Q . . .\n",
      ". . Q .\n"
     ]
    }
   ],
   "source": [
    "N = 4\n",
    "DN = 2 * N - 1\n",
    "\n",
    "columns = [False] * N\n",
    "left_diag = [False] * DN\n",
    "right_diag = [False] * DN\n",
    "board = [['.' for _ in range(N)] for _ in range(N)]\n",
    "\n",
    "def solve(r):\n",
    "  if r >= N:\n",
    "    return True\n",
    "  for c in range(N):\n",
    "    r_loc, l_loc = r + c, r - c + N-1\n",
    "    attacking = columns[c] or left_diag[l_loc] or right_diag[r_loc]\n",
    "    if not attacking:\n",
    "      columns[c] = left_diag[l_loc] = right_diag[r_loc] = True\n",
    "      board[r][c] = 'Q'\n",
    "      if solve(r + 1):\n",
    "        return True\n",
    "      board[r][c] = '.'\n",
    "      columns[c] = left_diag[l_loc] = right_diag[r_loc] = False\n",
    "  return False\n",
    "\n",
    "solve(0)\n",
    "print(*map(' '.join, board), sep='\\n')"
   ]
  },
  {
   "cell_type": "code",
   "execution_count": 73,
   "metadata": {},
   "outputs": [
    {
     "data": {
      "text/plain": [
       "'aba'"
      ]
     },
     "execution_count": 73,
     "metadata": {},
     "output_type": "execute_result"
    }
   ],
   "source": [
    "class Solution:\n",
    "  def longestPalindrome(self, s: str) -> str:\n",
    "    n = len(s)\n",
    "    dp = [[False for _ in range(n)] for _ in range(n)] \n",
    "    for i in range(n): dp[i][i] = True\n",
    "    res = [0, 0]\n",
    "    for i in range(n-1):\n",
    "      if s[i] == s[i+1]:\n",
    "        dp[i][i+1] = True\n",
    "        res = [i, i+1]\n",
    "    \n",
    "    for diff in range(2, n):\n",
    "      for i in range(n - diff):\n",
    "        j = i + diff\n",
    "        if s[i] == s[j] and dp[i+1][j-1]:\n",
    "          dp[i][j] = True\n",
    "          res = [i, j]\n",
    "    return s[res[0]:res[1]+1]\n",
    "\n",
    "Solution().longestPalindrome(\"babad\")"
   ]
  },
  {
   "cell_type": "code",
   "execution_count": 1,
   "metadata": {},
   "outputs": [
    {
     "ename": "ModuleNotFoundError",
     "evalue": "No module named 'pandas'",
     "output_type": "error",
     "traceback": [
      "\u001b[1;31m---------------------------------------------------------------------------\u001b[0m",
      "\u001b[1;31mModuleNotFoundError\u001b[0m                       Traceback (most recent call last)",
      "Cell \u001b[1;32mIn[1], line 1\u001b[0m\n\u001b[1;32m----> 1\u001b[0m \u001b[38;5;28;01mimport\u001b[39;00m\u001b[38;5;250m \u001b[39m\u001b[38;5;21;01mpandas\u001b[39;00m\u001b[38;5;250m \u001b[39m\u001b[38;5;28;01mas\u001b[39;00m\u001b[38;5;250m \u001b[39m\u001b[38;5;21;01mpd\u001b[39;00m\n",
      "\u001b[1;31mModuleNotFoundError\u001b[0m: No module named 'pandas'"
     ]
    }
   ],
   "source": [
    "import pandas as pd\n",
    "\n"
   ]
  }
 ],
 "metadata": {
  "kernelspec": {
   "display_name": "venv",
   "language": "python",
   "name": "python3"
  },
  "language_info": {
   "codemirror_mode": {
    "name": "ipython",
    "version": 3
   },
   "file_extension": ".py",
   "mimetype": "text/x-python",
   "name": "python",
   "nbconvert_exporter": "python",
   "pygments_lexer": "ipython3",
   "version": "3.12.3"
  }
 },
 "nbformat": 4,
 "nbformat_minor": 2
}
