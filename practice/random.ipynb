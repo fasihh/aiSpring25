{
 "cells": [
  {
   "cell_type": "code",
   "execution_count": null,
   "metadata": {},
   "outputs": [],
   "source": [
    "graph = [[1,2,3],[0,2],[0,1,3],[0,2]]\n",
    "\n",
    "def is_bipartite(graph):\n",
    "  pass"
   ]
  },
  {
   "cell_type": "code",
   "execution_count": 2,
   "metadata": {},
   "outputs": [
    {
     "name": "stdout",
     "output_type": "stream",
     "text": [
      ". Q . .\n",
      ". . . Q\n",
      "Q . . .\n",
      ". . Q .\n"
     ]
    }
   ],
   "source": [
    "N = 4\n",
    "DN = 2 * N - 1\n",
    "\n",
    "columns = [False] * N\n",
    "left_diag = [False] * DN\n",
    "right_diag = [False] * DN\n",
    "board = [['.' for _ in range(N)] for _ in range(N)]\n",
    "\n",
    "def solve(r):\n",
    "  if r >= N:\n",
    "    return True\n",
    "  for c in range(N):\n",
    "    r_loc, l_loc = r + c, r - c + N-1\n",
    "    attacking = columns[c] or left_diag[l_loc] or right_diag[r_loc]\n",
    "    if not attacking:\n",
    "      columns[c] = left_diag[l_loc] = right_diag[r_loc] = True\n",
    "      board[r][c] = 'Q'\n",
    "      if solve(r + 1):\n",
    "        return True\n",
    "      board[r][c] = '.'\n",
    "      columns[c] = left_diag[l_loc] = right_diag[r_loc] = False\n",
    "  return False\n",
    "\n",
    "solve(0)\n",
    "print(*map(' '.join, board), sep='\\n')"
   ]
  },
  {
   "cell_type": "code",
   "execution_count": 73,
   "metadata": {},
   "outputs": [
    {
     "data": {
      "text/plain": [
       "'aba'"
      ]
     },
     "execution_count": 73,
     "metadata": {},
     "output_type": "execute_result"
    }
   ],
   "source": [
    "class Solution:\n",
    "  def longestPalindrome(self, s: str) -> str:\n",
    "    n = len(s)\n",
    "    dp = [[False for _ in range(n)] for _ in range(n)] \n",
    "    for i in range(n): dp[i][i] = True\n",
    "    res = [0, 0]\n",
    "    for i in range(n-1):\n",
    "      if s[i] == s[i+1]:\n",
    "        dp[i][i+1] = True\n",
    "        res = [i, i+1]\n",
    "    \n",
    "    for diff in range(2, n):\n",
    "      for i in range(n - diff):\n",
    "        j = i + diff\n",
    "        if s[i] == s[j] and dp[i+1][j-1]:\n",
    "          dp[i][j] = True\n",
    "          res = [i, j]\n",
    "    return s[res[0]:res[1]+1]\n",
    "\n",
    "Solution().longestPalindrome(\"babad\")"
   ]
  },
  {
   "cell_type": "code",
   "execution_count": 7,
   "metadata": {},
   "outputs": [
    {
     "data": {
      "text/plain": [
       "np.float64(11.75)"
      ]
     },
     "execution_count": 7,
     "metadata": {},
     "output_type": "execute_result"
    }
   ],
   "source": [
    "import numpy as np\n",
    "\n",
    "arr = list(map(int, \"5 15 16 20 21 25 26 27 30 30 31 32 32 34 35 38 38 41 43 66\".split(' ')))\n",
    "Q3 = np.percentile(arr, 75)\n",
    "Q1 = np.percentile(arr, 25)\n",
    "Q3 - Q1"
   ]
  },
  {
   "cell_type": "code",
   "execution_count": 43,
   "metadata": {},
   "outputs": [
    {
     "name": "stdout",
     "output_type": "stream",
     "text": [
      "((0, 0), 1)\n",
      "((1, 1), 1)\n",
      "((0, 1), 2)\n",
      "((1, 2), 2)\n",
      "((0, 2), 3)\n",
      "((0, 3), 1)\n",
      "((1, 0), 2)\n",
      "((2, 2), 3)\n",
      "((3, 1), 1)\n",
      "((3, 2), 2)\n",
      "((3, 3), 3)\n",
      "((2, 3), 4)\n",
      "((1, 3), 5)\n",
      "((2, 1), 4)\n",
      "((3, 0), 1)\n",
      "((2, 0), 3)\n",
      "5\n",
      "[7, 6, 1, 1]\n",
      "[2, 7, 6, 0]\n",
      "[1, 3, 5, 1]\n",
      "[6, 6, 3, 2]\n"
     ]
    }
   ],
   "source": [
    "from typing import List\n",
    "\n",
    "class Solution:\n",
    "    def longestIncreasingPath(self, matrix: List[List[int]]) -> int:\n",
    "        n, m = len(matrix), len(matrix[-1])\n",
    "\n",
    "        dirs = [(0,1), (1,0), (-1,0), (0,-1)]\n",
    "        memo = {}\n",
    "        def dfs(r, c, prev):\n",
    "            nonlocal res\n",
    "\n",
    "            if not (0 <= r < n and 0 <= c < m) or matrix[r][c] <= prev:\n",
    "                return 0\n",
    "            \n",
    "            if (r, c) in memo:\n",
    "                return memo[(r, c)]\n",
    "            \n",
    "            res = float('-inf')\n",
    "            for dr, dc in dirs:\n",
    "                nr, nc = r + dr, c + dc\n",
    "                curr = dfs(nr, nc, matrix[r][c])\n",
    "                res = max(res, curr)\n",
    "            \n",
    "            memo[(r, c)] = memo.get((r, c), 1) + res\n",
    "            return memo[(r, c)]\n",
    "        \n",
    "        res = float('-inf')\n",
    "        for i in range(n):\n",
    "            for j in range(m):\n",
    "                res = max(res, dfs(i, j, float('-inf')))\n",
    "        print(*[(x, memo[x]) for x in memo], sep='\\n')\n",
    "        return res\n",
    "\n",
    "print(Solution().longestIncreasingPath([[7,6,1,1],[2,7,6,0],[1,3,5,1],[6,6,3,2]]))\n",
    "print(*[[7,6,1,1],[2,7,6,0],[1,3,5,1],[6,6,3,2]], sep='\\n')"
   ]
  }
 ],
 "metadata": {
  "kernelspec": {
   "display_name": "venv",
   "language": "python",
   "name": "python3"
  },
  "language_info": {
   "codemirror_mode": {
    "name": "ipython",
    "version": 3
   },
   "file_extension": ".py",
   "mimetype": "text/x-python",
   "name": "python",
   "nbconvert_exporter": "python",
   "pygments_lexer": "ipython3",
   "version": "3.12.3"
  }
 },
 "nbformat": 4,
 "nbformat_minor": 2
}
